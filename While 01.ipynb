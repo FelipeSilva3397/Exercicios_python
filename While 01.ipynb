{
 "cells": [
  {
   "cell_type": "markdown",
   "metadata": {},
   "source": [
    "# Estrutura while:\n",
    "\n",
    "### Funcionamento:\n",
    "\n",
    "Usamos o while quando queremos repetir um código de forma indeterminada até uma condição se tornar verdadeira/falsa.\n",
    "\n",
    "A lógica é: enquanto a condição for verdadeira, o while executa o código. Assim que ela terminar de ser verdadeira, o código \"sai\" do while."
   ]
  },
  {
   "cell_type": "raw",
   "metadata": {},
   "source": [
    "while condicao:\n",
    "    repete esse código"
   ]
  },
  {
   "cell_type": "markdown",
   "metadata": {},
   "source": []
  },
  {
   "cell_type": "markdown",
   "metadata": {},
   "source": [
    "- Exemplo: Quando criamos automações na internet\n",
    "- Exemplo2: Crie um programa que funcione como o registro de vendas de uma empresa.\n",
    "\n",
    "Nele, a pessoa deve inserir o nome do produto e o produto deve ser adicionado na lista de venda. Enquanto o usuário não encerrar o programa, significa que ele está registrando novos produtos, então o programa deve permitir e entrada de quantos produtos o usuário quiser."
   ]
  },
  {
   "cell_type": "code",
   "execution_count": 2,
   "metadata": {},
   "outputs": [
    {
     "name": "stdout",
     "output_type": "stream",
     "text": [
      "Registro Finalizado. As vendas cadastradas foram: ['bolo', 'milho', 'ovo', 'trigo', 'arroz', 'beterraba']\n"
     ]
    }
   ],
   "source": [
    "venda = input('Registre um produto. Para cancelar o registro de um novo produto, basta apertar enter com a caixa vazia')\n",
    "vendas = []\n",
    "#crie aqui o programa\n",
    "\n",
    "while venda != '':\n",
    "    vendas.append(venda)\n",
    "    venda = input('Registre um produto. Para cancelar o registro de um novo produto, basta apertar enter com a caixa vazia')\n",
    "\n",
    "\n",
    "print('Registro Finalizado. As vendas cadastradas foram: {}'.format(vendas))"
   ]
  },
  {
   "cell_type": "code",
   "execution_count": 3,
   "metadata": {},
   "outputs": [
    {
     "name": "stdout",
     "output_type": "stream",
     "text": [
      "1\n",
      "3\n",
      "5\n"
     ]
    }
   ],
   "source": [
    "x = 1\n",
    "while (x <= 6):\n",
    "    print(x)\n",
    "    x = x + 2"
   ]
  },
  {
   "cell_type": "code",
   "execution_count": 4,
   "metadata": {},
   "outputs": [
    {
     "name": "stdout",
     "output_type": "stream",
     "text": [
      "Média final: 60.0\n"
     ]
    }
   ],
   "source": [
    "soma = 0\n",
    "cont = 1 \n",
    "while (cont < 6):\n",
    "    x = float(input(f\"Digite a {cont}º nota:\"))\n",
    "    soma = soma + x \n",
    "    cont = cont + 1\n",
    "media = soma / 5\n",
    "print(f\"Média final: {media}\")"
   ]
  },
  {
   "cell_type": "markdown",
   "metadata": {},
   "source": [
    "# Cuidado com o while -> Loop Infinito\n",
    "\n",
    "Sempre que for usar o comando while, lembre-se de ter certeza que o programa vai terminar em algum momento\n",
    "\n",
    "### Exemplo\n",
    "\n",
    "Digamos que temos uma lista de vendedores e as quantidades vendidas e queremos identificar todos os vendedores que bateram a meta de 50 vendas."
   ]
  },
  {
   "cell_type": "code",
   "execution_count": 5,
   "metadata": {},
   "outputs": [],
   "source": [
    "vendas = [941, 852, 783, 714, 697, 686, 685, 670, 631, 453, 386, 371, 294, 269, 259, 218, 208, 163, 125, 102, 87, 47, 7]\n",
    "vendedores = ['Maria', 'José', 'Antônio', 'João', 'Francisco', 'Ana', 'Luiz', 'Paulo', 'Carlos', 'Manoel', 'Pedro', 'Francisca', 'Marcos', 'Raimundo', 'Sebastião', 'Antônia', 'Marcelo', 'Jorge', 'Márcia', 'Geraldo', 'Adriana', 'Sandra', 'Luis']\n",
    "meta = 50"
   ]
  },
  {
   "cell_type": "code",
   "execution_count": 7,
   "metadata": {},
   "outputs": [
    {
     "name": "stdout",
     "output_type": "stream",
     "text": [
      "Vendedor Maria vendeu 941 em vendas\n",
      "Vendedor José vendeu 852 em vendas\n",
      "Vendedor Antônio vendeu 783 em vendas\n",
      "Vendedor João vendeu 714 em vendas\n",
      "Vendedor Francisco vendeu 697 em vendas\n",
      "Vendedor Ana vendeu 686 em vendas\n",
      "Vendedor Luiz vendeu 685 em vendas\n",
      "Vendedor Paulo vendeu 670 em vendas\n",
      "Vendedor Carlos vendeu 631 em vendas\n",
      "Vendedor Manoel vendeu 453 em vendas\n",
      "Vendedor Pedro vendeu 386 em vendas\n",
      "Vendedor Francisca vendeu 371 em vendas\n",
      "Vendedor Marcos vendeu 294 em vendas\n",
      "Vendedor Raimundo vendeu 269 em vendas\n",
      "Vendedor Sebastião vendeu 259 em vendas\n",
      "Vendedor Antônia vendeu 218 em vendas\n",
      "Vendedor Marcelo vendeu 208 em vendas\n",
      "Vendedor Jorge vendeu 163 em vendas\n",
      "Vendedor Márcia vendeu 125 em vendas\n",
      "Vendedor Geraldo vendeu 102 em vendas\n",
      "Vendedor Adriana vendeu 87 em vendas\n"
     ]
    }
   ],
   "source": [
    "i = 0\n",
    "\n",
    "while vendas[i] > meta:\n",
    "    print(f\"Vendedor {vendedores[i]} vendeu {vendas[i]} em vendas\")\n",
    "    i = i + 1"
   ]
  },
  {
   "cell_type": "markdown",
   "metadata": {},
   "source": []
  }
 ],
 "metadata": {
  "kernelspec": {
   "display_name": "Python 3",
   "language": "python",
   "name": "python3"
  },
  "language_info": {
   "codemirror_mode": {
    "name": "ipython",
    "version": 3
   },
   "file_extension": ".py",
   "mimetype": "text/x-python",
   "name": "python",
   "nbconvert_exporter": "python",
   "pygments_lexer": "ipython3",
   "version": "3.12.0"
  }
 },
 "nbformat": 4,
 "nbformat_minor": 4
}
