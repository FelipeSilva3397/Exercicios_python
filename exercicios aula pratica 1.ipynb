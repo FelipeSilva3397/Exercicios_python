{
 "cells": [
  {
   "cell_type": "code",
   "execution_count": 5,
   "metadata": {},
   "outputs": [
    {
     "name": "stdout",
     "output_type": "stream",
     "text": [
      "the number is even\n"
     ]
    }
   ],
   "source": [
    "x = int(input(\"Enter an integer value\")) # Digite um numero inteiro\n",
    "if (x % 2 == 0):\n",
    "    print(\"the number is even\") # o numero é par\n",
    "else:\n",
    "    print(\"the number is odd\") # o numero é impar"
   ]
  },
  {
   "cell_type": "code",
   "execution_count": 6,
   "metadata": {},
   "outputs": [
    {
     "name": "stdout",
     "output_type": "stream",
     "text": [
      "False\n"
     ]
    }
   ],
   "source": [
    "#and\n",
    "x = False\n",
    "y = True\n",
    "print( x and y)"
   ]
  },
  {
   "cell_type": "code",
   "execution_count": 9,
   "metadata": {},
   "outputs": [
    {
     "name": "stdout",
     "output_type": "stream",
     "text": [
      "True\n"
     ]
    }
   ],
   "source": [
    "#or\n",
    "x = False\n",
    "y = True\n",
    "print( x or y)\n"
   ]
  },
  {
   "cell_type": "code",
   "execution_count": 11,
   "metadata": {},
   "outputs": [
    {
     "name": "stdout",
     "output_type": "stream",
     "text": [
      "False\n"
     ]
    }
   ],
   "source": [
    "x = 10\n",
    "y = 1\n",
    "res = not x > y\n",
    "print(res)"
   ]
  },
  {
   "cell_type": "code",
   "execution_count": 12,
   "metadata": {},
   "outputs": [
    {
     "name": "stdout",
     "output_type": "stream",
     "text": [
      "False\n"
     ]
    }
   ],
   "source": [
    "x = 10\n",
    "y = 1\n",
    "z = 5.5\n",
    "res = x > y and z == y #True and False\n",
    "print(res)"
   ]
  },
  {
   "cell_type": "code",
   "execution_count": 13,
   "metadata": {},
   "outputs": [
    {
     "name": "stdout",
     "output_type": "stream",
     "text": [
      "True\n"
     ]
    }
   ],
   "source": [
    "x = 10\n",
    "y = 1\n",
    "z = 5.5\n",
    "res = x > y or not z == y and y != y + z / x \n",
    "#res True or not false and True\n",
    "#res True or true and true\n",
    "#res True or True\n",
    "print(res)"
   ]
  },
  {
   "cell_type": "code",
   "execution_count": 16,
   "metadata": {},
   "outputs": [
    {
     "name": "stdout",
     "output_type": "stream",
     "text": [
      "You didn't passed\n"
     ]
    }
   ],
   "source": [
    "matter1 = float(input(\"Enter your first note\"))#Digite sua primeira nota\n",
    "matter2 = float(input(\"Enter your second note\"))#Digite sua segunda nota\n",
    "matter3 = float(input(\"Enter your third note\"))#Digite sua terceira nota\n",
    "\n",
    "if matter1 >= 70 and matter2 >= 70 and matter3 >= 70:\n",
    "    print(\"You passed\")\n",
    "else:\n",
    "    print(\"You didn't passed\")\n"
   ]
  },
  {
   "cell_type": "code",
   "execution_count": 26,
   "metadata": {},
   "outputs": [
    {
     "name": "stdout",
     "output_type": "stream",
     "text": [
      "Escolha oque deseja comprar\n",
      "1 - Banana\n",
      "2 - maça\n",
      "3 - laranja\n",
      "Voce comprou 10 Banana. Total a pagar: R$23.0\n"
     ]
    }
   ],
   "source": [
    "# menu\n",
    "\n",
    "print(\"Escolha oque deseja comprar\")\n",
    "print(\"1 - Banana\")\n",
    "print(\"2 - maça\")\n",
    "print(\"3 - laranja\")\n",
    "\n",
    "item = int(input(\"Escolha sua fruta?\"))\n",
    "if item <= 3:\n",
    "    qtde = int(input(\"Voce quer quantas unidades?\"))\n",
    "else:\n",
    "    print(\"produto inexixtente\")\n",
    "\n",
    "if (item == 1):\n",
    "    pagar = qtde *2.3\n",
    "    print(f\"Voce comprou {qtde} Banana. Total a pagar: R${pagar:}\")\n",
    "elif (item == 2):\n",
    "    pagar = qtde *1.85\n",
    "    print(f\"Voce comprou {qtde} Maça. Total a pagar: R${pagar:}\")\n",
    "elif (item == 3):\n",
    "    pagar = qtde *3.3\n",
    "    print(f\"Voce comprou {qtde} Laranja. Total a pagar: R${pagar:}\")\n",
    "else:\n",
    "    print(\"produto inexixtente\")\n"
   ]
  },
  {
   "cell_type": "code",
   "execution_count": 34,
   "metadata": {},
   "outputs": [
    {
     "name": "stdout",
     "output_type": "stream",
     "text": [
      "Voce não é o Felipe, 'Seja bem Vindo'\n"
     ]
    }
   ],
   "source": [
    "nome = \"Felipe\"\n",
    "usuario = input(\"Qual seu nome?\")\n",
    "idade = int(input(\"Digite sua Idade\"))\n",
    "\n",
    "if usuario == nome:\n",
    "    print(\"Seja bem Vindo Felipe\")\n",
    "elif idade <= 17:\n",
    "    print(\"Voce não é o Felipe, e é menor de idade\")\n",
    "elif idade <= 99:\n",
    "        print(\"Voce não é o Felipe, 'Seja bem Vindo'\")\n",
    "else:\n",
    "    print(\"Voce não é o Felipe, e não é imortal\")\n",
    "\n"
   ]
  },
  {
   "cell_type": "code",
   "execution_count": 35,
   "metadata": {},
   "outputs": [
    {
     "name": "stdout",
     "output_type": "stream",
     "text": [
      "Triangulo isóceles!\n"
     ]
    }
   ],
   "source": [
    "a = int(input(\"Digite o 1o lado do tringulo\"))\n",
    "b = int(input(\"Digite o 2o lado do tringulo\")) \n",
    "c = int(input(\"Digite o 3o lado do tringulo\"))\n",
    "\n",
    "if ((a > 0 and b >0 and c > 0)) and (a + b > c and a + c > b and b + c > a):\n",
    "    #se o triangulo for valido então\n",
    "    if ( a != b and a != c and b != c):\n",
    "        print(\"Triangulo escaleno\")\n",
    "    else:\n",
    "        if ( a == b and b == c):\n",
    "            print(\"Triangulo equilatero\")\n",
    "        else:\n",
    "            print(\"Triangulo isóceles!\")\n",
    "else:\n",
    "    print(\"Ao menos um dos valores não atendem aos requisitos minimos para formar o triangulo\")"
   ]
  },
  {
   "cell_type": "code",
   "execution_count": 50,
   "metadata": {},
   "outputs": [
    {
     "name": "stdout",
     "output_type": "stream",
     "text": [
      "Calculadora\n",
      "+ adição\n",
      "- subtração\n",
      "* multiplicação\n",
      "/ divisão\n",
      "Resultado: 20 * 20 = 400\n"
     ]
    }
   ],
   "source": [
    "print(\"Calculadora\")\n",
    "\n",
    "value = int(input(\"Selecione o primeiro valor\"))\n",
    "value2 = int(input(\"Selecione o segundo valor\"))\n",
    "\n",
    "print(\"+ adição\")\n",
    "print(\"- subtração\")\n",
    "print(\"* multiplicação\")\n",
    "print(\"/ divisão\")\n",
    "\n",
    "op = input(\"Digite a operação desejada 'Digite apenas números\")\n",
    "if op == '+':\n",
    "    res = value + value2\n",
    "    print(f\"Resultado: {value} + {value2} = {res}\")\n",
    "elif op == '-':\n",
    "    res = value - value2\n",
    "    print(f\"Resultado: {value} - {value2} = {res}\")\n",
    "elif op == '*':\n",
    "    res = value * value2\n",
    "    print(f\"Resultado: {value} * {value2} = {res}\")\n",
    "elif op == '/':\n",
    "    res = value / value2\n",
    "    print(f\"Resultado: {value} / {value2} = {res}\")\n",
    "else:\n",
    "    print(\"Encerrando o programa...\")\n",
    "\n"
   ]
  },
  {
   "cell_type": "code",
   "execution_count": 54,
   "metadata": {},
   "outputs": [
    {
     "name": "stdout",
     "output_type": "stream",
     "text": [
      "Total a pagar: 385.00000000000006\n"
     ]
    }
   ],
   "source": [
    "#Calcule o preço de consulo de energia por tipo e faixa de consumo\n",
    "\n",
    "kwh = float(input(\"Digite o kWh de consumo?\"))\n",
    "tipo = input(\"Qual o tipo de instalação (R, C, I)\")\n",
    "\n",
    "if tipo == \"R\":\n",
    "    if kwh >= 500:\n",
    "        preco = 0.65\n",
    "    else:\n",
    "        preco = 0.4\n",
    "    print(f\"Total a pagar: {kwh * preco}\")\n",
    "if tipo == \"C\":\n",
    "    if kwh >= 1000:\n",
    "        preco = 0.6\n",
    "    else:\n",
    "        preco = 0.55\n",
    "    print(f\"Total a pagar: {kwh * preco}\")\n",
    "if tipo == \"I\":\n",
    "    if kwh >= 5000:\n",
    "        preco = 0.6\n",
    "    else:\n",
    "        preco = 0.55\n",
    "    print(f\"Total a pagar: {kwh * preco}\")"
   ]
  },
  {
   "cell_type": "code",
   "execution_count": 57,
   "metadata": {},
   "outputs": [
    {
     "ename": "SyntaxError",
     "evalue": "unterminated string literal (detected at line 1) (230870831.py, line 1)",
     "output_type": "error",
     "traceback": [
      "\u001b[1;36m  Cell \u001b[1;32mIn[57], line 1\u001b[1;36m\u001b[0m\n\u001b[1;33m    print('apol)\u001b[0m\n\u001b[1;37m          ^\u001b[0m\n\u001b[1;31mSyntaxError\u001b[0m\u001b[1;31m:\u001b[0m unterminated string literal (detected at line 1)\n"
     ]
    }
   ],
   "source": [
    "print('apol)"
   ]
  },
  {
   "cell_type": "code",
   "execution_count": null,
   "metadata": {},
   "outputs": [],
   "source": []
  }
 ],
 "metadata": {
  "kernelspec": {
   "display_name": "Python 3",
   "language": "python",
   "name": "python3"
  },
  "language_info": {
   "codemirror_mode": {
    "name": "ipython",
    "version": 3
   },
   "file_extension": ".py",
   "mimetype": "text/x-python",
   "name": "python",
   "nbconvert_exporter": "python",
   "pygments_lexer": "ipython3",
   "version": "3.12.0"
  }
 },
 "nbformat": 4,
 "nbformat_minor": 2
}
