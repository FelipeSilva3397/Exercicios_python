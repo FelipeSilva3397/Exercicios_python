{
 "cells": [
  {
   "cell_type": "markdown",
   "metadata": {},
   "source": [
    "### Exercício 1\n",
    "### Crie um sistema de cadastro de produtos em uma lista de produtos\n",
    "Seu sistema deve:\n",
    "- Pegar o usuário qual produto vai ser cadastrado por meio de um input\n",
    "- Garantir que se o usuário escrever com letra maiúscula ou minúscula, o produto continua sendo o mesmo produto\n",
    "- Se o usuário inserir um produto que já existe na lista, o programa deve printar a mensagem \"Produto já existente, tente novamente\"\n",
    "- Se o usuário inserir um produto que não existe na lista, o programa deve inserir na lista, printar a mensagem Produto X cadastrado com sucesso e em seguida printar a lista completa"
   ]
  },
  {
   "cell_type": "code",
   "execution_count": 4,
   "metadata": {},
   "outputs": [
    {
     "name": "stdout",
     "output_type": "stream",
     "text": [
      "Product calculator registered successfully\n"
     ]
    }
   ],
   "source": [
    "produtos = [\"celular\", \"camera\", \"fone de ouvido\", \"monitor\"]\n",
    "\n",
    "new_product = input(\"Enter a product to register\")\n",
    "new_product = new_product.lower()\n",
    "\n",
    "if new_product in produtos:\n",
    "    print(\"Product already registered\")\n",
    "else:\n",
    "    print(f\"Product {new_product} registered successfully\")"
   ]
  },
  {
   "cell_type": "markdown",
   "metadata": {},
   "source": [
    "### Exercício 2\n",
    "#### Crie um sistema de consulta de preços\n",
    "Seu sistema deve:\n",
    "- Pedir para o usuário o nome de um produto\n",
    "- Caso o produto exista na lista de produtos, o programa deve retornar o preço do produto como resposta\n",
    "       - Ex: O produto celular custa R$1500\n",
    "- Caso o produto não exista na lista de produtos, o programa deve printar uma mensagem para o usuário tentar novamente\n"
   ]
  },
  {
   "cell_type": "code",
   "execution_count": 7,
   "metadata": {},
   "outputs": [
    {
     "name": "stdout",
     "output_type": "stream",
     "text": [
      "Product: monitor, prince: 2000\n"
     ]
    }
   ],
   "source": [
    "produtos = [\"celular\", \"camera\", \"fone de ouvido\", \"monitor\"]\n",
    "precos = [1500, 1000, 800, 2000]\n",
    "\n",
    "product_sought = input(\"Enter the product\")\n",
    "product_sought = product_sought.lower()\n",
    "\n",
    "if product_sought in produtos:\n",
    "    index = produtos.index(product_sought)\n",
    "    price = precos[index]\n",
    "    print(f\"Product: {product_sought}, prince: {price}\")"
   ]
  },
  {
   "cell_type": "markdown",
   "metadata": {},
   "source": [
    "### Exercício 3\n",
    "#### Crie um sistema de consulta de bônus dos funcionários\n",
    "Seu sistema deve:\n",
    "- Pegar o valor de vendas do funcinoário por meio de um input\n",
    "- Calcular o bônus do funcionário de acordo com a seguinte regra:\n",
    "      - Se o funcionário vendeu mais de 1000 unidades, ele ganha R$2 de bonus para cada unidade vendida\n",
    "      - Se o funcionário vendeu mais de 5000 unidades, ele ganha R$2 de bônus para cada unidade + um valor fixo de R$1000\n",
    "      - Se o funcionário vendeu menos de 1000 unidades, ele não ganha bônus\n",
    "- Printar no final o valor do bônus do funcionário\n"
   ]
  },
  {
   "cell_type": "code",
   "execution_count": 10,
   "metadata": {},
   "outputs": [
    {
     "name": "stdout",
     "output_type": "stream",
     "text": [
      "Gratification 41000.0\n"
     ]
    }
   ],
   "source": [
    "sales = float(input(\"Enter units sold (Only numbers):\"))\n",
    "if sales >5000:\n",
    "    gratification = sales * 2 + 1000\n",
    "elif sales > 1000:\n",
    "    gratification = sales * 2\n",
    "else:\n",
    "    gratification = 0\n",
    "print(f\"Gratification {gratification}\")\n",
    "\n",
    "\n"
   ]
  },
  {
   "cell_type": "markdown",
   "metadata": {},
   "source": [
    "### Exercício 4\n",
    "Crie um programa que consiga descobrir qual dos vendedores vendeu mais\n",
    "<br>As vendas dos vendedores são listas com a quantidade vendida por cada vendedor"
   ]
  },
  {
   "cell_type": "code",
   "execution_count": 11,
   "metadata": {},
   "outputs": [
    {
     "name": "stdout",
     "output_type": "stream",
     "text": [
      "Seller2 sold more\n"
     ]
    }
   ],
   "source": [
    "vendas = [\n",
    "    [10, 20, 100, 80, 90, 100, 20, 30, 44, 55, 33, 34, 100, 90, 80, 39, 87, 45, 50, 50, 50, 50, 40, 30, 3, 93, 39, 49, 88],    \n",
    "    [100, 1, 1, 4, 5, 90, 100, 20, 4, 5, 100, 100, 100, 100, 100, 93, 20, 15, 40, 90, 90, 90, 90, 90, 90, 33, 22, 44, 43, 34],\n",
    "]\n",
    "\n",
    "sales_seller1 = sum(vendas[0])\n",
    "sales_seller2 = sum(vendas[1])\n",
    "\n",
    "if sales_seller1 > sales_seller2:\n",
    "    print(\"Seller1 sold more \")\n",
    "else:\n",
    "    print(\"Seller2 sold more\")\n",
    "    "
   ]
  },
  {
   "cell_type": "code",
   "execution_count": null,
   "metadata": {},
   "outputs": [],
   "source": []
  }
 ],
 "metadata": {
  "kernelspec": {
   "display_name": "Python 3",
   "language": "python",
   "name": "python3"
  },
  "language_info": {
   "codemirror_mode": {
    "name": "ipython",
    "version": 3
   },
   "file_extension": ".py",
   "mimetype": "text/x-python",
   "name": "python",
   "nbconvert_exporter": "python",
   "pygments_lexer": "ipython3",
   "version": "3.12.0"
  }
 },
 "nbformat": 4,
 "nbformat_minor": 2
}
